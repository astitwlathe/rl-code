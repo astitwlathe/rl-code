{
 "cells": [
  {
   "cell_type": "code",
   "execution_count": 1,
   "metadata": {},
   "outputs": [
    {
     "name": "stderr",
     "output_type": "stream",
     "text": [
      "pybullet build time: Mar 26 2022 03:01:35\n"
     ]
    }
   ],
   "source": [
    "import gym\n",
    "from gym import error, spaces, utils\n",
    "from gym.utils import seeding\n",
    "\n",
    "import os\n",
    "import pybullet as p\n",
    "import pybullet_data\n",
    "import math\n",
    "import numpy as np\n",
    "import random\n",
    "import math\n",
    "from pybullet_planning import get_num_joints, get_joint_names, get_movable_joints, set_joint_positions, joint_from_name, \\\n",
    "    joints_from_names, get_sample_fn\n",
    "\n"
   ]
  },
  {
   "cell_type": "code",
   "execution_count": 1,
   "metadata": {},
   "outputs": [
    {
     "ename": "IndentationError",
     "evalue": "unexpected indent (1792964677.py, line 9)",
     "output_type": "error",
     "traceback": [
      "\u001b[0;36m  Input \u001b[0;32mIn [1]\u001b[0;36m\u001b[0m\n\u001b[0;31m    urdf_filename = os.path.join(path, 'robot', self.urdf_filename)\u001b[0m\n\u001b[0m    ^\u001b[0m\n\u001b[0;31mIndentationError\u001b[0m\u001b[0;31m:\u001b[0m unexpected indent\n"
     ]
    }
   ],
   "source": [
    "class AumrTahoma(gym.Env):\n",
    "    def __init__(self):\n",
    "        p.connect(p.GUI)\n",
    "        p.resetDebugVisualizerCamera(cameraDistance=1.5, cameraYaw=90, cameraPitch=-40, cameraTargetPosition=[3.5,-1,2.5])\n",
    "        self.action_space = spaces.Box(np.array([-1]*4), np.array([1]*4))\n",
    "        self.observation_space = spaces.Box(np.array([-1]*5), np.array([1]*5))\n",
    "    def reset(self):\n",
    "        p.resetSimulation()\n",
    "        urdfRootPath = pybullet_data.getDataPath()        \n",
    "        # p.configureDebugVisualizer(p.COV_ENABLE_RENDERING,0) # we will enable rendering after we loaded everything\n",
    "        p.setGravity(0,0,-10)\n",
    "        podUID = p.loadURDF(\"./pod1.urdf\")    \n",
    "        robotUID = p.loadURDF(\"tahoma.urdf\", basePosition=[0.5,-1.5,0], baseOrientation=p.getQuaternionFromEuler([0, 0, math.pi/2]))\n",
    "        state_object= [random.uniform(1.5,1.8),random.uniform(-0.2,0.2),0.05]\n",
    "        self.objectUid = p.loadURDF(os.path.join(urdfRootPath, \"random_urdfs/000/000.urdf\"), basePosition=state_object)\n",
    "        ik_joints = get_movable_joints(robotUID)\n",
    "        sample_fn = get_sample_fn(robotUID, ik_joints)\n",
    "        conf = sample_fn()\n",
    "        print(\"Joints\", ik_joints, \"sample configuration\", conf)\n",
    "        set_joint_positions(robotUID, ik_joints, conf)\n",
    "\n",
    "\n",
    "        \n",
    "        \n"
   ]
  },
  {
   "cell_type": "code",
   "execution_count": null,
   "metadata": {},
   "outputs": [
    {
     "ename": "",
     "evalue": "",
     "output_type": "error",
     "traceback": [
      "\u001b[1;31mCanceled future for execute_request message before replies were done"
     ]
    },
    {
     "ename": "",
     "evalue": "",
     "output_type": "error",
     "traceback": [
      "\u001b[1;31mThe Kernel crashed while executing code in the the current cell or a previous cell. Please review the code in the cell(s) to identify a possible cause of the failure. Click <a href='https://aka.ms/vscodeJupyterKernelCrash'>here</a> for more info. View Jupyter <a href='command:jupyter.viewOutput'>log</a> for further details."
     ]
    }
   ],
   "source": [
    "envs = AumrTahoma()"
   ]
  },
  {
   "cell_type": "code",
   "execution_count": 1,
   "metadata": {},
   "outputs": [
    {
     "name": "stdout",
     "output_type": "stream",
     "text": [
      "/mnt/c/Users/astit/Miscellaneous/Practice/UWHub/gym\n"
     ]
    }
   ],
   "source": [
    "!pwd"
   ]
  },
  {
   "cell_type": "code",
   "execution_count": null,
   "metadata": {},
   "outputs": [],
   "source": []
  }
 ],
 "metadata": {
  "interpreter": {
   "hash": "40e8c2c6c5d9e6e4c7aab0bde1985ec8ddaa4eeabfb3b98e33407b0e7227b9c5"
  },
  "kernelspec": {
   "display_name": "Python 3.9.11 ('uwhub_lab')",
   "language": "python",
   "name": "python3"
  },
  "language_info": {
   "codemirror_mode": {
    "name": "ipython",
    "version": 3
   },
   "file_extension": ".py",
   "mimetype": "text/x-python",
   "name": "python",
   "nbconvert_exporter": "python",
   "pygments_lexer": "ipython3",
   "version": "3.9.11"
  },
  "orig_nbformat": 4
 },
 "nbformat": 4,
 "nbformat_minor": 2
}
